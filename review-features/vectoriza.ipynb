{
 "cells": [
  {
   "cell_type": "code",
   "execution_count": 2,
   "metadata": {
    "collapsed": true
   },
   "outputs": [],
   "source": [
    "import numpy as np \n",
    "import pandas as pd\n",
    "import mysql.connector\n",
    "from textblob import TextBlob"
   ]
  },
  {
   "cell_type": "code",
   "execution_count": 3,
   "metadata": {},
   "outputs": [],
   "source": [
    "df = pd.read_csv('reviews.csv')"
   ]
  },
  {
   "cell_type": "code",
   "execution_count": 4,
   "metadata": {},
   "outputs": [],
   "source": [
    "rowNum = df.shape[0]\n",
    "print(rowNum)"
   ]
  },
  {
   "cell_type": "code",
   "execution_count": 5,
   "metadata": {},
   "outputs": [],
   "source": [
    "indices = []\n",
    "\n",
    "for index in range(rowNum):\n",
    "    if (pd.isnull(df['text'][index])):\n",
    "        indices.append(index)\n",
    "    if (index%100000 == 0):\n",
    "        print(index)"
   ]
  },
  {
   "cell_type": "code",
   "execution_count": 6,
   "metadata": {},
   "outputs": [],
   "source": [
    "print(indices)"
   ]
  },
  {
   "cell_type": "code",
   "execution_count": 7,
   "metadata": {},
   "outputs": [],
   "source": [
    "i = len(indices) - 1 \n",
    "\n",
    "while i >= 0 :\n",
    "    print(indices[i])\n",
    "    df = df.drop(df.index[indices[i]])\n",
    "    i -= 1"
   ]
  },
  {
   "cell_type": "code",
   "execution_count": 8,
   "metadata": {
    "collapsed": true
   },
   "outputs": [],
   "source": [
    "from sklearn.feature_extraction.text import CountVectorizer\n",
    "from sklearn.feature_extraction.text import TfidfVectorizer"
   ]
  },
  {
   "cell_type": "code",
   "execution_count": 9,
   "metadata": {
    "collapsed": true
   },
   "outputs": [],
   "source": [
    "def textVectorizer(df):\n",
    "    vectorizer = CountVectorizer(min_df=1)\n",
    "    textVector = vectorizer.fit_transform(list(df['text']))\n",
    "    return textVector.todense()\n",
    "textVector = textVectorizer(df)"
   ]
  },
  {
   "cell_type": "code",
   "execution_count": null,
   "metadata": {
    "collapsed": true
   },
   "outputs": [],
   "source": [
    "def biTextVectorizer(df):\n",
    "    vectorizer = CountVectorizer(ngram_range=(1, 2), token_pattern=r'\\b\\w+\\b', min_df=1)\n",
    "    textVectorizer = vectorizer.fit_transform(df['text'])\n",
    "    return textVector.todense()\n",
    "biTextVector = biTextVectorizer(df)"
   ]
  },
  {
   "cell_type": "code",
   "execution_count": null,
   "metadata": {
    "collapsed": true
   },
   "outputs": [],
   "source": [
    "def tfidfVectorizer(df):\n",
    "    vectorizer = TfidfVectorizer()\n",
    "    textVector = vectorizer.fit_transform(list(df['text']))\n",
    "    return textVector.todense()\n",
    "tfidfVector = tfidfVectorizer(df)"
   ]
  },
  {
   "cell_type": "code",
   "execution_count": 10,
   "metadata": {},
   "outputs": [],
   "source": [
    "dt = pd.read_csv('review_category_user.csv')"
   ]
  },
  {
   "cell_type": "code",
   "execution_count": 11,
   "metadata": {
    "collapsed": true
   },
   "outputs": [],
   "source": [
    "rowNum2 = dt.shape[0]\n",
    "print(rowNum2)"
   ]
  },
  {
   "cell_type": "code",
   "execution_count": 12,
   "metadata": {
    "collapsed": true
   },
   "outputs": [],
   "source": [
    "textVectorA = [None]*rowNum2\n",
    "biTextVectorA = [None]*rowNum2\n",
    "tfidfVectorA = [None]*rowNum2"
   ]
  },
  {
   "cell_type": "code",
   "execution_count": 13,
   "metadata": {
    "collapsed": true
   },
   "outputs": [],
   "source": [
    "for index in range(rowNum2):\n",
    "    loc = df.loc[df['id']==dt['id'][index]].index[0]\n",
    "    textVectorA[loc] = textVector[loc]\n",
    "    biTextVectorA[loc] = biTextVector[loc]\n",
    "    tfidfVectorA[loc] = tfidfVector[loc]\n",
    "    if (index%10000 == 0):\n",
    "        print(index)"
   ]
  },
  {
   "cell_type": "code",
   "execution_count": 14,
   "metadata": {
    "collapsed": true
   },
   "outputs": [],
   "source": [
    "new_column = pd.DataFrame({'reviews_text_vector': textVectorA, 'reviews_text_bivector': biTextVectorA, 'reviews_tfidf': tfidfVectorA})\n",
    "df = df.merge(new_column, left_index = True, right_index = True)\n",
    "df.to_csv('review_cat_user_userFeature.csv')"
   ]
  },
  {
   "cell_type": "code",
   "execution_count": null,
   "metadata": {
    "collapsed": true
   },
   "outputs": [],
   "source": []
  }
 ],
 "metadata": {
  "kernelspec": {
   "display_name": "Python 3",
   "language": "python",
   "name": "python3"
  },
  "language_info": {
   "codemirror_mode": {
    "name": "ipython",
    "version": 3
   },
   "file_extension": ".py",
   "mimetype": "text/x-python",
   "name": "python",
   "nbconvert_exporter": "python",
   "pygments_lexer": "ipython3",
   "version": "3.6.3"
  }
 },
 "nbformat": 4,
 "nbformat_minor": 2
}
